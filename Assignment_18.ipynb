{
  "nbformat": 4,
  "nbformat_minor": 0,
  "metadata": {
    "colab": {
      "name": "Untitled34.ipynb",
      "version": "0.3.2",
      "provenance": [],
      "include_colab_link": true
    },
    "kernelspec": {
      "name": "python2",
      "display_name": "Python 2"
    }
  },
  "cells": [
    {
      "cell_type": "markdown",
      "metadata": {
        "id": "view-in-github",
        "colab_type": "text"
      },
      "source": [
        "[View in Colaboratory](https://colab.research.google.com/github/kamini25singh/assignment/blob/master/Assignment_18.ipynb)"
      ]
    },
    {
      "metadata": {
        "id": "BQ5ohfw2EH7y",
        "colab_type": "code",
        "colab": {
          "base_uri": "https://localhost:8080/",
          "height": 34
        },
        "outputId": "fd106d44-ee7d-4f39-d609-4a81873a33cb"
      },
      "cell_type": "code",
      "source": [
        "# question 1\n",
        "print('F = (b+c)(a-1)')"
      ],
      "execution_count": 1,
      "outputs": [
        {
          "output_type": "stream",
          "text": [
            "F = (b+c)(a-1)\n"
          ],
          "name": "stdout"
        }
      ]
    },
    {
      "metadata": {
        "id": "kRLnvGoXEN6r",
        "colab_type": "code",
        "colab": {
          "base_uri": "https://localhost:8080/",
          "height": 34
        },
        "outputId": "ba35ede6-81c3-4d99-a796-8f4aea75d00a"
      },
      "cell_type": "code",
      "source": [
        "#question 2\n",
        "x1 = -0.06\n",
        "x2 = -2.5\n",
        "x3 = 1.4\n",
        "\n",
        "w1 = 2.7\n",
        "w2 = -8.6\n",
        "w3 = 0.002\n",
        "\n",
        "X = (w1*x1) + (w2*x2) +(w3*x3)\n",
        "print(X)"
      ],
      "execution_count": 2,
      "outputs": [
        {
          "output_type": "stream",
          "text": [
            "21.3408\n"
          ],
          "name": "stdout"
        }
      ]
    },
    {
      "metadata": {
        "id": "dKZD81peEUuC",
        "colab_type": "code",
        "colab": {}
      },
      "cell_type": "code",
      "source": [
        "import math\n"
      ],
      "execution_count": 0,
      "outputs": []
    },
    {
      "metadata": {
        "id": "S3VtGCMrEY9j",
        "colab_type": "code",
        "colab": {
          "base_uri": "https://localhost:8080/",
          "height": 34
        },
        "outputId": "c27924dd-6895-48ad-fcc2-b201888f8cfc"
      },
      "cell_type": "code",
      "source": [
        "fx = 1 / (1 + math.exp(-X))\n",
        "print(fx)"
      ],
      "execution_count": 4,
      "outputs": [
        {
          "output_type": "stream",
          "text": [
            "0.999999999461\n"
          ],
          "name": "stdout"
        }
      ]
    },
    {
      "metadata": {
        "id": "lXEvrgpVEdkd",
        "colab_type": "code",
        "colab": {
          "base_uri": "https://localhost:8080/",
          "height": 34
        },
        "outputId": "cb11c9f5-64be-4e9f-cc9f-d1a8a09cc8ee"
      },
      "cell_type": "code",
      "source": [
        "bias = -1.1\n",
        "newX = X + bias\n",
        "print(newX)"
      ],
      "execution_count": 5,
      "outputs": [
        {
          "output_type": "stream",
          "text": [
            "20.2408\n"
          ],
          "name": "stdout"
        }
      ]
    },
    {
      "metadata": {
        "id": "i_2N7e7uEiQT",
        "colab_type": "code",
        "colab": {}
      },
      "cell_type": "code",
      "source": [
        ""
      ],
      "execution_count": 0,
      "outputs": []
    }
  ]
}