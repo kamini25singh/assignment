{
  "nbformat": 4,
  "nbformat_minor": 0,
  "metadata": {
    "colab": {
      "name": "Untitled1.ipynb",
      "version": "0.3.2",
      "provenance": [],
      "include_colab_link": true
    },
    "kernelspec": {
      "name": "python2",
      "display_name": "Python 2"
    }
  },
  "cells": [
    {
      "cell_type": "markdown",
      "metadata": {
        "id": "view-in-github",
        "colab_type": "text"
      },
      "source": [
        "[View in Colaboratory](https://colab.research.google.com/github/kamini25singh/assignment/blob/master/Untitled1.ipynb)"
      ]
    },
    {
      "metadata": {
        "id": "rHQr1jXF6sZq",
        "colab_type": "code",
        "colab": {
          "base_uri": "https://localhost:8080/",
          "height": 112
        },
        "outputId": "b03864e1-4573-4250-8530-468af1f88da5"
      },
      "cell_type": "code",
      "source": [
        "#Question1\n",
        "P(A) = 11 / 36\n",
        "P(B) = 6 / 36\n",
        "P(A|B) = 2 / 36\n"
      ],
      "execution_count": 0,
      "outputs": [
        {
          "output_type": "error",
          "ename": "SyntaxError",
          "evalue": "ignored",
          "traceback": [
            "\u001b[0;36m  File \u001b[0;32m\"<ipython-input-1-6fbfe95e56fb>\"\u001b[0;36m, line \u001b[0;32m1\u001b[0m\n\u001b[0;31m    P(A) = 11 / 36\u001b[0m\n\u001b[0;31mSyntaxError\u001b[0m\u001b[0;31m:\u001b[0m can't assign to function call\n"
          ]
        }
      ]
    },
    {
      "metadata": {
        "id": "BtiVgfSFAlN7",
        "colab_type": "code",
        "colab": {
          "base_uri": "https://localhost:8080/",
          "height": 34
        },
        "outputId": "bf755c37-5682-466f-fda1-6e9985f2d376"
      },
      "cell_type": "code",
      "source": [
        "#Question 1\n",
        "pA=0.30\n",
        "pB=0.16\n",
        "pAifB=0.05\n",
        "pBifA=(pAifB*pB)/pA\n",
        "print(pBifA)\n"
      ],
      "execution_count": 0,
      "outputs": [
        {
          "output_type": "stream",
          "text": [
            "0.0266666666667\n"
          ],
          "name": "stdout"
        }
      ]
    },
    {
      "metadata": {
        "id": "T7mQJ-alIkxx",
        "colab_type": "code",
        "colab": {
          "base_uri": "https://localhost:8080/",
          "height": 34
        },
        "outputId": "1733db93-c1ff-4e96-9bee-2633121a2f2b"
      },
      "cell_type": "code",
      "source": [
        "#Question 2\n",
        "#bag 1 with 4 white and 6 black balls\n",
        "#bag 2 with 4 white and 3 black balls\n",
        "bag1=1.0/2#probability of selecting bag1\n",
        "bag2=1.0/2#probability of selecting bag2\n",
        "black1=6.0/10#probability of selecting black from bag1\n",
        "black2=3.0/7#probability of selecting black from bag2\n",
        "probab1=(bag1*black1)/((bag1*black1)+(bag2*black2))\n",
        "print(probab1)\n",
        "\n",
        "\n",
        "\n"
      ],
      "execution_count": 2,
      "outputs": [
        {
          "output_type": "stream",
          "text": [
            "0.583333333333\n"
          ],
          "name": "stdout"
        }
      ]
    },
    {
      "metadata": {
        "id": "OhHbclZyLfup",
        "colab_type": "code",
        "colab": {
          "base_uri": "https://localhost:8080/",
          "height": 34
        },
        "outputId": "41187002-4cb1-4b0a-b54d-d8bdef37684f"
      },
      "cell_type": "code",
      "source": [
        "#Question 3\n",
        "truth=2.0/3\n",
        "lie=1.0/3\n",
        "\n",
        "gtng4=1.0/6\n",
        "ngtng4=5.0/6\n",
        "\n",
        "probab = (truth*gtng4)/((truth*gtng4)+(lie*ngtng4))\n",
        "\n",
        "print(probab)"
      ],
      "execution_count": 7,
      "outputs": [
        {
          "output_type": "stream",
          "text": [
            "0.285714285714\n"
          ],
          "name": "stdout"
        }
      ]
    },
    {
      "metadata": {
        "id": "11JQIHpXMzlK",
        "colab_type": "code",
        "colab": {}
      },
      "cell_type": "code",
      "source": [
        ""
      ],
      "execution_count": 0,
      "outputs": []
    }
  ]
}